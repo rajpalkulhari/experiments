{
 "cells": [
  {
   "cell_type": "code",
   "execution_count": 1,
   "metadata": {},
   "outputs": [],
   "source": [
    "import pandas as pd\n",
    "import numpy as np\n",
    "import matplotlib.pyplot as plt\n",
    "import seaborn as sns\n",
    "from sklearn.linear_model import LogisticRegression\n",
    "from sklearn.tree import DecisionTreeClassifier\n",
    "from sklearn.model_selection import cross_validate\n",
    "from sklearn import metrics\n",
    "from sklearn import preprocessing\n",
    "\n",
    "%matplotlib inline"
   ]
  },
  {
   "cell_type": "markdown",
   "metadata": {},
   "source": [
    "## Data Explorations"
   ]
  },
  {
   "cell_type": "code",
   "execution_count": 2,
   "metadata": {},
   "outputs": [],
   "source": [
    "df = pd.read_csv('Data/test_dataset.csv',sep='\\t')"
   ]
  },
  {
   "cell_type": "code",
   "execution_count": 3,
   "metadata": {},
   "outputs": [
    {
     "data": {
      "text/html": [
       "<div>\n",
       "<style scoped>\n",
       "    .dataframe tbody tr th:only-of-type {\n",
       "        vertical-align: middle;\n",
       "    }\n",
       "\n",
       "    .dataframe tbody tr th {\n",
       "        vertical-align: top;\n",
       "    }\n",
       "\n",
       "    .dataframe thead th {\n",
       "        text-align: right;\n",
       "    }\n",
       "</style>\n",
       "<table border=\"1\" class=\"dataframe\">\n",
       "  <thead>\n",
       "    <tr style=\"text-align: right;\">\n",
       "      <th></th>\n",
       "      <th>Outcome</th>\n",
       "      <th>V1</th>\n",
       "      <th>V2</th>\n",
       "      <th>V3</th>\n",
       "      <th>V4</th>\n",
       "      <th>V5</th>\n",
       "      <th>V6</th>\n",
       "      <th>V7</th>\n",
       "      <th>V8</th>\n",
       "      <th>V9</th>\n",
       "    </tr>\n",
       "  </thead>\n",
       "  <tbody>\n",
       "    <tr>\n",
       "      <th>0</th>\n",
       "      <td>0</td>\n",
       "      <td>19</td>\n",
       "      <td>182.0</td>\n",
       "      <td>1</td>\n",
       "      <td>0</td>\n",
       "      <td>0</td>\n",
       "      <td>0</td>\n",
       "      <td>1</td>\n",
       "      <td>0</td>\n",
       "      <td>523</td>\n",
       "    </tr>\n",
       "    <tr>\n",
       "      <th>1</th>\n",
       "      <td>0</td>\n",
       "      <td>33</td>\n",
       "      <td>155.0</td>\n",
       "      <td>2</td>\n",
       "      <td>0</td>\n",
       "      <td>0</td>\n",
       "      <td>0</td>\n",
       "      <td>0</td>\n",
       "      <td>3</td>\n",
       "      <td>551</td>\n",
       "    </tr>\n",
       "    <tr>\n",
       "      <th>2</th>\n",
       "      <td>0</td>\n",
       "      <td>20</td>\n",
       "      <td>105.0</td>\n",
       "      <td>0</td>\n",
       "      <td>1</td>\n",
       "      <td>0</td>\n",
       "      <td>0</td>\n",
       "      <td>0</td>\n",
       "      <td>1</td>\n",
       "      <td>557</td>\n",
       "    </tr>\n",
       "    <tr>\n",
       "      <th>3</th>\n",
       "      <td>0</td>\n",
       "      <td>21</td>\n",
       "      <td>108.0</td>\n",
       "      <td>0</td>\n",
       "      <td>1</td>\n",
       "      <td>0</td>\n",
       "      <td>0</td>\n",
       "      <td>1</td>\n",
       "      <td>2</td>\n",
       "      <td>594</td>\n",
       "    </tr>\n",
       "    <tr>\n",
       "      <th>4</th>\n",
       "      <td>0</td>\n",
       "      <td>18</td>\n",
       "      <td>107.0</td>\n",
       "      <td>0</td>\n",
       "      <td>1</td>\n",
       "      <td>0</td>\n",
       "      <td>0</td>\n",
       "      <td>1</td>\n",
       "      <td>0</td>\n",
       "      <td>600</td>\n",
       "    </tr>\n",
       "  </tbody>\n",
       "</table>\n",
       "</div>"
      ],
      "text/plain": [
       "   Outcome  V1     V2  V3  V4  V5  V6  V7  V8   V9\n",
       "0        0  19  182.0   1   0   0   0   1   0  523\n",
       "1        0  33  155.0   2   0   0   0   0   3  551\n",
       "2        0  20  105.0   0   1   0   0   0   1  557\n",
       "3        0  21  108.0   0   1   0   0   1   2  594\n",
       "4        0  18  107.0   0   1   0   0   1   0  600"
      ]
     },
     "execution_count": 3,
     "metadata": {},
     "output_type": "execute_result"
    }
   ],
   "source": [
    "df.head()"
   ]
  },
  {
   "cell_type": "code",
   "execution_count": 4,
   "metadata": {},
   "outputs": [
    {
     "name": "stdout",
     "output_type": "stream",
     "text": [
      "Shape => (189, 10)\n"
     ]
    }
   ],
   "source": [
    "print(\"Shape => {0}\".format(df.shape))"
   ]
  },
  {
   "cell_type": "markdown",
   "metadata": {},
   "source": [
    "**Dataset contains 189 examples and 10 variables, including Outcome**"
   ]
  },
  {
   "cell_type": "code",
   "execution_count": 5,
   "metadata": {},
   "outputs": [
    {
     "name": "stdout",
     "output_type": "stream",
     "text": [
      "Outcome    0\n",
      "V1         0\n",
      "V2         1\n",
      "V3         0\n",
      "V4         0\n",
      "V5         0\n",
      "V6         0\n",
      "V7         0\n",
      "V8         0\n",
      "V9         0\n",
      "dtype: int64\n"
     ]
    }
   ],
   "source": [
    "print(df.isnull().sum())"
   ]
  },
  {
   "cell_type": "markdown",
   "metadata": {},
   "source": [
    "**So there is one missing value row in our dataset.**<br/>\n",
    "**Let's see what is there in that row**"
   ]
  },
  {
   "cell_type": "code",
   "execution_count": 6,
   "metadata": {},
   "outputs": [
    {
     "data": {
      "text/html": [
       "<div>\n",
       "<style scoped>\n",
       "    .dataframe tbody tr th:only-of-type {\n",
       "        vertical-align: middle;\n",
       "    }\n",
       "\n",
       "    .dataframe tbody tr th {\n",
       "        vertical-align: top;\n",
       "    }\n",
       "\n",
       "    .dataframe thead th {\n",
       "        text-align: right;\n",
       "    }\n",
       "</style>\n",
       "<table border=\"1\" class=\"dataframe\">\n",
       "  <thead>\n",
       "    <tr style=\"text-align: right;\">\n",
       "      <th></th>\n",
       "      <th>Outcome</th>\n",
       "      <th>V1</th>\n",
       "      <th>V2</th>\n",
       "      <th>V3</th>\n",
       "      <th>V4</th>\n",
       "      <th>V5</th>\n",
       "      <th>V6</th>\n",
       "      <th>V7</th>\n",
       "      <th>V8</th>\n",
       "      <th>V9</th>\n",
       "    </tr>\n",
       "  </thead>\n",
       "  <tbody>\n",
       "    <tr>\n",
       "      <th>32</th>\n",
       "      <td>0</td>\n",
       "      <td>35</td>\n",
       "      <td>NaN</td>\n",
       "      <td>1</td>\n",
       "      <td>1</td>\n",
       "      <td>1</td>\n",
       "      <td>0</td>\n",
       "      <td>0</td>\n",
       "      <td>1</td>\n",
       "      <td>948</td>\n",
       "    </tr>\n",
       "  </tbody>\n",
       "</table>\n",
       "</div>"
      ],
      "text/plain": [
       "    Outcome  V1  V2  V3  V4  V5  V6  V7  V8   V9\n",
       "32        0  35 NaN   1   1   1   0   0   1  948"
      ]
     },
     "execution_count": 6,
     "metadata": {},
     "output_type": "execute_result"
    }
   ],
   "source": [
    "df[df.isnull().any(axis=1)]"
   ]
  },
  {
   "cell_type": "markdown",
   "metadata": {},
   "source": [
    "**Hmm, so there are below of options for this missing value:**<br/>\n",
    "1. Either remove this row (removing feature is also an option but here we don't need)\n",
    "2. with Mean, Median and Mode of the feature\n",
    "3. Last Observation or Next Observation (mostly useful in time series analysis)\n",
    "4. create a simple model without using label and impute missing values using that\n",
    "5. if variable is categorical, fill with highest frequency count"
   ]
  },
  {
   "cell_type": "code",
   "execution_count": 7,
   "metadata": {},
   "outputs": [],
   "source": [
    "df = df.fillna(df.mean())"
   ]
  },
  {
   "cell_type": "markdown",
   "metadata": {},
   "source": [
    "**Explore response variable**"
   ]
  },
  {
   "cell_type": "code",
   "execution_count": 8,
   "metadata": {},
   "outputs": [
    {
     "data": {
      "image/png": "[encoded data removed]",
      "text/plain": [
       "<Figure size 432x288 with 1 Axes>"
      ]
     },
     "metadata": {},
     "output_type": "display_data"
    }
   ],
   "source": [
    "df.Outcome.value_counts().plot(kind='bar')\n",
    "plt.xlabel('Output variable')\n",
    "plt.ylabel('Count')\n",
    "plt.title('Count of output variable on dataset')\n",
    "plt.show()"
   ]
  },
  {
   "cell_type": "markdown",
   "metadata": {},
   "source": [
    "**This gives two main findings**<br/>\n",
    "1. Our response variable is binary so its an classification problem\n",
    "2. Seems like a class imbalance case"
   ]
  },
  {
   "cell_type": "markdown",
   "metadata": {},
   "source": [
    "### Summary statistics"
   ]
  },
  {
   "cell_type": "code",
   "execution_count": 9,
   "metadata": {},
   "outputs": [
    {
     "name": "stdout",
     "output_type": "stream",
     "text": [
      "          Outcome          V1          V2          V3          V4          V5  \\\n",
      "count  189.000000  189.000000  189.000000  189.000000  189.000000  189.000000   \n",
      "mean     0.312169   23.238095  129.861702    0.846561    0.391534    0.195767   \n",
      "std      0.464609    5.298678   30.572586    0.918342    0.489390    0.493342   \n",
      "min      0.000000   14.000000   80.000000    0.000000    0.000000    0.000000   \n",
      "25%      0.000000   19.000000  110.000000    0.000000    0.000000    0.000000   \n",
      "50%      0.000000   23.000000  121.000000    0.000000    0.000000    0.000000   \n",
      "75%      1.000000   26.000000  140.000000    2.000000    1.000000    0.000000   \n",
      "max      1.000000   45.000000  250.000000    2.000000    1.000000    3.000000   \n",
      "\n",
      "               V6          V7          V8           V9  \n",
      "count  189.000000  189.000000  189.000000   189.000000  \n",
      "mean     0.063492    0.148148    0.793651   944.587302  \n",
      "std      0.244494    0.356190    1.059286   729.214295  \n",
      "min      0.000000    0.000000    0.000000 -1291.000000  \n",
      "25%      0.000000    0.000000    0.000000   414.000000  \n",
      "50%      0.000000    0.000000    0.000000   977.000000  \n",
      "75%      0.000000    0.000000    1.000000  1487.000000  \n",
      "max      1.000000    1.000000    6.000000  2990.000000  \n"
     ]
    }
   ],
   "source": [
    "print(df.describe())"
   ]
  },
  {
   "cell_type": "markdown",
   "metadata": {},
   "source": [
    "**From this below are some observations:**<br/>\n",
    "1. Variables V3 to V8 are categorical variables"
   ]
  },
  {
   "cell_type": "code",
   "execution_count": 10,
   "metadata": {},
   "outputs": [],
   "source": [
    "cat_vars = ['V3','V4','V5','V6','V7','V8']\n",
    "num_vars = ['V1','V2','V9']"
   ]
  },
  {
   "cell_type": "markdown",
   "metadata": {},
   "source": [
    "**Pairwise correlation between numerical attributes**"
   ]
  },
  {
   "cell_type": "code",
   "execution_count": 11,
   "metadata": {},
   "outputs": [
    {
     "data": {
      "image/png": "[encoded data removed]",
      "text/plain": [
       "<Figure size 432x288 with 2 Axes>"
      ]
     },
     "metadata": {},
     "output_type": "display_data"
    }
   ],
   "source": [
    "sns.heatmap(df[num_vars].corr(), vmin = -1, vmax=1, annot=True)\n",
    "plt.show()"
   ]
  },
  {
   "cell_type": "markdown",
   "metadata": {},
   "source": [
    "There are no pairs that has any high correlation (pos/neg)"
   ]
  },
  {
   "cell_type": "markdown",
   "metadata": {},
   "source": [
    "**Distributions of numeric examples over each class**"
   ]
  },
  {
   "cell_type": "code",
   "execution_count": 12,
   "metadata": {},
   "outputs": [
    {
     "data": {
      "image/png": "[encoded data removed]",
      "text/plain": [
       "<Figure size 432x288 with 3 Axes>"
      ]
     },
     "metadata": {},
     "output_type": "display_data"
    }
   ],
   "source": [
    "plt.subplot(221)\n",
    "sns.violinplot(x = \"Outcome\", y = \"V1\", data=df, size =6)\n",
    "\n",
    "plt.subplot(222)\n",
    "sns.violinplot(x = \"Outcome\", y = \"V2\", data=df, size =6)\n",
    "\n",
    "plt.subplot(223)\n",
    "sns.violinplot(x = \"Outcome\", y = \"V9\", data=df, size =6)\n",
    "plt.show()"
   ]
  },
  {
   "cell_type": "markdown",
   "metadata": {},
   "source": [
    "### This is very interesting, seems like variable V9 is very highly correlated with response variable, lets look at what is max and min for both these variables"
   ]
  },
  {
   "cell_type": "code",
   "execution_count": 13,
   "metadata": {},
   "outputs": [
    {
     "name": "stdout",
     "output_type": "stream",
     "text": [
      "For pos class:\n",
      "Max is: V9    495\n",
      "dtype: int64\n",
      "Min is: V9   -1291\n",
      "dtype: int64\n"
     ]
    }
   ],
   "source": [
    "print(\"For pos class:\")\n",
    "print(\"Max is: {0}\".format(df.loc[df.Outcome == 1,[\"V9\"]].max()))\n",
    "print(\"Min is: {0}\".format(df.loc[df.Outcome == 1,[\"V9\"]].min()))"
   ]
  },
  {
   "cell_type": "code",
   "execution_count": 14,
   "metadata": {},
   "outputs": [
    {
     "name": "stdout",
     "output_type": "stream",
     "text": [
      "For neg class:\n",
      "Max is: V9    2990\n",
      "dtype: int64\n",
      "Min is: V9    523\n",
      "dtype: int64\n"
     ]
    }
   ],
   "source": [
    "print(\"For neg class:\")\n",
    "print(\"Max is: {0}\".format(df.loc[df.Outcome == 0,[\"V9\"]].max()))\n",
    "print(\"Min is: {0}\".format(df.loc[df.Outcome == 0,[\"V9\"]].min()))"
   ]
  },
  {
   "cell_type": "markdown",
   "metadata": {},
   "source": [
    "### Outcome: If V9 < 500 we always has class 1 else its always 0"
   ]
  },
  {
   "cell_type": "code",
   "execution_count": 15,
   "metadata": {},
   "outputs": [
    {
     "data": {
      "text/plain": [
       "array([1], dtype=int64)"
      ]
     },
     "execution_count": 15,
     "metadata": {},
     "output_type": "execute_result"
    }
   ],
   "source": [
    "df.loc[df.V9 < 500, \"Outcome\"].unique()"
   ]
  },
  {
   "cell_type": "code",
   "execution_count": 16,
   "metadata": {},
   "outputs": [
    {
     "data": {
      "text/plain": [
       "array([0], dtype=int64)"
      ]
     },
     "execution_count": 16,
     "metadata": {},
     "output_type": "execute_result"
    }
   ],
   "source": [
    "df.loc[df.V9 >= 500, \"Outcome\"].unique()"
   ]
  },
  {
   "cell_type": "markdown",
   "metadata": {},
   "source": [
    "**Plot distributions for numerical variables**"
   ]
  },
  {
   "cell_type": "code",
   "execution_count": 17,
   "metadata": {},
   "outputs": [
    {
     "data": {
      "image/png": "[encoded data removed]",
      "text/plain": [
       "<Figure size 432x288 with 1 Axes>"
      ]
     },
     "metadata": {},
     "output_type": "display_data"
    }
   ],
   "source": [
    "df['V1'].hist()\n",
    "plt.title(\"V1 distributions\")\n",
    "plt.show()"
   ]
  },
  {
   "cell_type": "markdown",
   "metadata": {},
   "source": [
    "**We'll need to transform this data to convert more of a normal distribution**"
   ]
  },
  {
   "cell_type": "code",
   "execution_count": 18,
   "metadata": {},
   "outputs": [
    {
     "data": {
      "image/png": "[encoded data removed]",
      "text/plain": [
       "<Figure size 432x288 with 1 Axes>"
      ]
     },
     "metadata": {},
     "output_type": "display_data"
    }
   ],
   "source": [
    "df['V1_log'] = np.log(df['V1'])\n",
    "df['V1_log'].hist()\n",
    "plt.title(\"V1_log distributions\")\n",
    "plt.show()"
   ]
  },
  {
   "cell_type": "code",
   "execution_count": 19,
   "metadata": {},
   "outputs": [
    {
     "data": {
      "image/png": "[encoded data removed]",
      "text/plain": [
       "<Figure size 432x288 with 1 Axes>"
      ]
     },
     "metadata": {},
     "output_type": "display_data"
    }
   ],
   "source": [
    "df['V2'].hist()\n",
    "plt.title(\"V2 distributions\")\n",
    "plt.show()"
   ]
  },
  {
   "cell_type": "code",
   "execution_count": 20,
   "metadata": {},
   "outputs": [
    {
     "data": {
      "image/png": "[encoded data removed]",
      "text/plain": [
       "<Figure size 432x288 with 1 Axes>"
      ]
     },
     "metadata": {},
     "output_type": "display_data"
    }
   ],
   "source": [
    "df['V2_log'] = np.log(df['V2'])\n",
    "df['V2_log'].hist()\n",
    "plt.title(\"V2_log distributions\")\n",
    "plt.show()"
   ]
  },
  {
   "cell_type": "code",
   "execution_count": 21,
   "metadata": {},
   "outputs": [
    {
     "data": {
      "image/png": "[encoded data removed]",
      "text/plain": [
       "<Figure size 432x288 with 1 Axes>"
      ]
     },
     "metadata": {},
     "output_type": "display_data"
    }
   ],
   "source": [
    "df['V9'].hist()\n",
    "plt.title(\"V9 distributions\")\n",
    "plt.show()"
   ]
  },
  {
   "cell_type": "markdown",
   "metadata": {},
   "source": [
    "**Plot relationship between pairwise**"
   ]
  },
  {
   "cell_type": "code",
   "execution_count": 22,
   "metadata": {},
   "outputs": [
    {
     "data": {
      "text/plain": [
       "<seaborn.axisgrid.PairGrid at 0x244f7e3ed68>"
      ]
     },
     "execution_count": 22,
     "metadata": {},
     "output_type": "execute_result"
    },
    {
     "data": {
      "image/png": "[encoded data removed]",
      "text/plain": [
       "<Figure size 485.25x432 with 12 Axes>"
      ]
     },
     "metadata": {},
     "output_type": "display_data"
    }
   ],
   "source": [
    "sns.pairplot(df, vars=['V1','V2','V9'], hue=\"Outcome\", height=2)"
   ]
  },
  {
   "cell_type": "markdown",
   "metadata": {},
   "source": [
    "- Here also seems like variable V9 is easily distinctable from V1 and V2"
   ]
  },
  {
   "cell_type": "markdown",
   "metadata": {},
   "source": [
    "\n",
    "**Frequency distribution for categorical variables**"
   ]
  },
  {
   "cell_type": "code",
   "execution_count": 23,
   "metadata": {},
   "outputs": [
    {
     "data": {
      "image/png": "[encoded data removed]",
      "text/plain": [
       "<Figure size 1080x360 with 1 Axes>"
      ]
     },
     "metadata": {},
     "output_type": "display_data"
    }
   ],
   "source": [
    "plt.figure(figsize=(15,5))\n",
    "plt.hist([df.V3,df.V4,df.V5,df.V6,df.V7,df.V8],label = ['V3','V4','V5','V6','V7','V8'])\n",
    "plt.legend(loc='upper right')\n",
    "plt.show()"
   ]
  },
  {
   "cell_type": "markdown",
   "metadata": {},
   "source": [
    "## Modeling part"
   ]
  },
  {
   "cell_type": "code",
   "execution_count": 24,
   "metadata": {},
   "outputs": [],
   "source": [
    "def classification_model(model, data, predictors, outcome,folds=5):\n",
    "    model.fit(data[predictors],data[outcome])\n",
    "    predictions = model.predict(data[predictors])\n",
    "    \n",
    "    accuracy = metrics.accuracy_score(data[outcome],predictions)\n",
    "    auc = metrics.roc_auc_score(data[outcome],predictions)\n",
    "    precision = metrics.precision_score(data[outcome],predictions)\n",
    "    recall = metrics.recall_score(data[outcome],predictions)\n",
    "    print (\"Accuracy : %s\" % \"{0:.2%}\".format(accuracy))\n",
    "    print (\"AUC : %s\" % \"{0:.2%}\".format(auc))\n",
    "    print (\"Precision : %s\" % \"{0:.2%}\".format(precision))\n",
    "    print (\"Recall : %s\" % \"{0:.2%}\".format(recall))\n",
    "    \n",
    "    cv_results = cross_validate(model, data[predictors], data[outcome], cv=folds,return_train_score=False)   \n",
    "    print (\"Cross-Validation Score : %s\" % \"{0:.2%}\".format(np.mean(cv_results['test_score'])))\n",
    "    \n",
    "    return model.fit(data[predictors],data[outcome]) "
   ]
  },
  {
   "cell_type": "markdown",
   "metadata": {},
   "source": [
    "### 1. Logistic Regression"
   ]
  },
  {
   "cell_type": "markdown",
   "metadata": {},
   "source": [
    "- **LR with all base features:**"
   ]
  },
  {
   "cell_type": "code",
   "execution_count": 25,
   "metadata": {},
   "outputs": [
    {
     "name": "stdout",
     "output_type": "stream",
     "text": [
      "Accuracy : 98.41%\n",
      "AUC : 98.38%\n",
      "Precision : 96.67%\n",
      "Recall : 98.31%\n",
      "Cross-Validation Score : 92.52%\n",
      "Model coef: [[ 0.10528141  0.04135293  0.82527073  0.77250815  0.3694962   0.25963155\n",
      "  -0.3482051   0.27017989 -0.01757941]]\n"
     ]
    }
   ],
   "source": [
    "outcome_var = 'Outcome'\n",
    "model = LogisticRegression()\n",
    "predictor_var = ['V1','V2','V3','V4','V5','V6','V7','V8','V9']\n",
    "model = classification_model(model, df,predictor_var,outcome_var)\n",
    "print(\"Model coef: {0}\".format(model.coef_))"
   ]
  },
  {
   "cell_type": "markdown",
   "metadata": {},
   "source": [
    "**Outcome:**\n",
    "1. I alreday got a good accuracy score. But CV error is quite differnt from accuracy number. So seems like a overfitting case\n",
    "2. As our classes were imbalance, I'll also check precision and recall numbers. In this case its alreday at good point"
   ]
  },
  {
   "cell_type": "markdown",
   "metadata": {},
   "source": [
    "- **LR with all log normalized features:**"
   ]
  },
  {
   "cell_type": "code",
   "execution_count": 26,
   "metadata": {},
   "outputs": [
    {
     "name": "stdout",
     "output_type": "stream",
     "text": [
      "Accuracy : 99.47%\n",
      "AUC : 99.62%\n",
      "Precision : 98.33%\n",
      "Recall : 100.00%\n",
      "Cross-Validation Score : 93.10%\n",
      "Model coef: [[ 0.84978099  1.60517564  0.41114432  0.61583755  0.29632517  0.45164631\n",
      "  -0.54072767  0.10575897 -0.02164012]]\n"
     ]
    }
   ],
   "source": [
    "outcome_var = 'Outcome'\n",
    "model = LogisticRegression()\n",
    "predictor_var = ['V1_log','V2_log','V3','V4','V5','V6','V7','V8','V9']\n",
    "model = classification_model(model, df,predictor_var,outcome_var)\n",
    "print(\"Model coef: {0}\".format(model.coef_))"
   ]
  },
  {
   "cell_type": "markdown",
   "metadata": {},
   "source": [
    "**Outcome:**\n",
    "1. interesting, my accuracy has improved and same is case with PR\n",
    "2. Though still accuracy and CV are quite different and hence case of overfitting"
   ]
  },
  {
   "cell_type": "markdown",
   "metadata": {},
   "source": [
    "- **LR with all log normalized and scale normalized features:**"
   ]
  },
  {
   "cell_type": "code",
   "execution_count": 27,
   "metadata": {},
   "outputs": [
    {
     "name": "stdout",
     "output_type": "stream",
     "text": [
      "Accuracy : 99.47%\n",
      "AUC : 99.62%\n",
      "Precision : 98.33%\n",
      "Recall : 100.00%\n",
      "Cross-Validation Score : 89.93%\n"
     ]
    }
   ],
   "source": [
    "outData = df.Outcome\n",
    "standardized_df = df[[\"V1_log\",\"V2_log\",\"V9\"]]\n",
    "standardized_df = pd.DataFrame(preprocessing.scale(standardized_df))\n",
    "# standardized_df['Outcome'] = outData\n",
    "standardized_df.columns = [\"V1_log_norm\",\"V2_log_norm\",\"V9_norm\"]\n",
    "standardized_df = pd.concat([standardized_df, df[['V3','V4','V5','V6','V7','V8','Outcome']]], axis=1)\n",
    "\n",
    "outcome_var = 'Outcome'\n",
    "model = LogisticRegression()\n",
    "predictor_var = ['V1_log_norm','V2_log_norm','V3','V4','V5','V6','V7','V8','V9_norm']\n",
    "model = classification_model(model, standardized_df,predictor_var,outcome_var)"
   ]
  },
  {
   "cell_type": "markdown",
   "metadata": {},
   "source": [
    "- Didn't gave any boost, even cross validation went down"
   ]
  },
  {
   "cell_type": "markdown",
   "metadata": {},
   "source": [
    "### 2. Decision Tree"
   ]
  },
  {
   "cell_type": "code",
   "execution_count": 28,
   "metadata": {},
   "outputs": [
    {
     "name": "stdout",
     "output_type": "stream",
     "text": [
      "Accuracy : 100.00%\n",
      "AUC : 100.00%\n",
      "Precision : 100.00%\n",
      "Recall : 100.00%\n",
      "Cross-Validation Score : 92.57%\n",
      "Model coef: [0. 0. 0. 0. 0. 0. 0. 0. 1.]\n"
     ]
    }
   ],
   "source": [
    "outcome_var = 'Outcome'\n",
    "model = DecisionTreeClassifier()\n",
    "predictor_var = ['V1','V2','V3','V4','V5','V6','V7','V8','V9']\n",
    "model = classification_model(model, df,predictor_var,outcome_var)\n",
    "print(\"Model coef: {0}\".format(model.feature_importances_))"
   ]
  },
  {
   "cell_type": "markdown",
   "metadata": {},
   "source": [
    "## Feature V9 alone is sufficient for making predictions from this data. This was also discoverd from data analysis"
   ]
  },
  {
   "cell_type": "markdown",
   "metadata": {},
   "source": [
    "## Final model: \n",
    "It would be as simple as a if condition for given this dataset "
   ]
  },
  {
   "cell_type": "code",
   "execution_count": 29,
   "metadata": {},
   "outputs": [],
   "source": [
    "def FinalModel(data,outcome):\n",
    "    data['predictions'] = np.where(df['V9'] > 500, 0, 1)\n",
    "    accuracy = metrics.accuracy_score(data[outcome],data['predictions'])\n",
    "    auc = metrics.roc_auc_score(data[outcome],data['predictions'])\n",
    "    precision = metrics.precision_score(data[outcome],data['predictions'])\n",
    "    recall = metrics.recall_score(data[outcome],data['predictions'])\n",
    "    print (\"Accuracy : %s\" % \"{0:.2%}\".format(accuracy))\n",
    "    print (\"AUC : %s\" % \"{0:.2%}\".format(auc))\n",
    "    print (\"Precision : %s\" % \"{0:.2%}\".format(precision))\n",
    "    print (\"Recall : %s\" % \"{0:.2%}\".format(recall))"
   ]
  },
  {
   "cell_type": "code",
   "execution_count": 30,
   "metadata": {},
   "outputs": [
    {
     "name": "stdout",
     "output_type": "stream",
     "text": [
      "Accuracy : 100.00%\n",
      "AUC : 100.00%\n",
      "Precision : 100.00%\n",
      "Recall : 100.00%\n"
     ]
    }
   ],
   "source": [
    "FinalModel(df,'Outcome')"
   ]
  }
 ],
 "metadata": {
  "kernelspec": {
   "display_name": "Python 3",
   "language": "python",
   "name": "python3"
  },
  "language_info": {
   "codemirror_mode": {
    "name": "ipython",
    "version": 3
   },
   "file_extension": ".py",
   "mimetype": "text/x-python",
   "name": "python",
   "nbconvert_exporter": "python",
   "pygments_lexer": "ipython3",
   "version": "3.6.5"
  }
 },
 "nbformat": 4,
 "nbformat_minor": 2
}
